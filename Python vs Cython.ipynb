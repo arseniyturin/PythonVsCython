{
 "cells": [
  {
   "cell_type": "markdown",
   "metadata": {},
   "source": [
    "## Python function"
   ]
  },
  {
   "cell_type": "code",
   "execution_count": 1,
   "metadata": {},
   "outputs": [],
   "source": [
    "import random\n",
    "import time\n",
    "\n",
    "def count():\n",
    "    start = time.time()\n",
    "    a = [random.randrange(1,2000) for i in range(10000)]\n",
    "    b = [random.randrange(1,2000) for i in range(10000)]\n",
    "    c = [] \n",
    "    for i in a:\n",
    "        for j in b:\n",
    "            c.append(i*j)\n",
    "    end = time.time()\n",
    "    \n",
    "    print(f'Data: {len(c)}, time: {round(end-start, 2)} seconds')"
   ]
  },
  {
   "cell_type": "markdown",
   "metadata": {},
   "source": [
    "### Execution Time"
   ]
  },
  {
   "cell_type": "code",
   "execution_count": 2,
   "metadata": {},
   "outputs": [
    {
     "name": "stdout",
     "output_type": "stream",
     "text": [
      "Data: 100000000, time: 7.85 seconds\n"
     ]
    }
   ],
   "source": [
    "count()"
   ]
  },
  {
   "cell_type": "markdown",
   "metadata": {},
   "source": [
    "## Cython Function"
   ]
  },
  {
   "cell_type": "markdown",
   "metadata": {},
   "source": [
    "hello.pyx is compiled to shared object lirary (.so) via CLI command `cythonize -i -a hello.pyx`"
   ]
  },
  {
   "cell_type": "code",
   "execution_count": 3,
   "metadata": {},
   "outputs": [
    {
     "name": "stdout",
     "output_type": "stream",
     "text": [
      "import time\r\n",
      "import random\r\n",
      "\r\n",
      "def count():\r\n",
      "\tcdef list a = [random.randrange(1,2000) for i in range(10000)]\r\n",
      "\tcdef list b = [random.randrange(1,2000) for i in range(10000)]\r\n",
      "\tcdef list c = []\r\n",
      "\tstart = time.time()\r\n",
      "\tfor i in a:\r\n",
      "\t\tfor j in b:\r\n",
      "\t\t\tc.append(i*j)\r\n",
      "\tend = time.time()\r\n",
      "\tprint(f'Data: {len(c)}, time: {round(end-start, 2)} seconds')\r\n"
     ]
    }
   ],
   "source": [
    "cat hello.pyx"
   ]
  },
  {
   "cell_type": "code",
   "execution_count": 4,
   "metadata": {},
   "outputs": [],
   "source": [
    "import hello"
   ]
  },
  {
   "cell_type": "code",
   "execution_count": 5,
   "metadata": {},
   "outputs": [
    {
     "name": "stdout",
     "output_type": "stream",
     "text": [
      "Data: 100000000, time: 3.48 seconds\n"
     ]
    }
   ],
   "source": [
    "hello.count()"
   ]
  }
 ],
 "metadata": {
  "kernelspec": {
   "display_name": "Python 3",
   "language": "python",
   "name": "python3"
  },
  "language_info": {
   "codemirror_mode": {
    "name": "ipython",
    "version": 3
   },
   "file_extension": ".py",
   "mimetype": "text/x-python",
   "name": "python",
   "nbconvert_exporter": "python",
   "pygments_lexer": "ipython3",
   "version": "3.8.3"
  }
 },
 "nbformat": 4,
 "nbformat_minor": 4
}
